{
  "nbformat": 4,
  "nbformat_minor": 0,
  "metadata": {
    "colab": {
      "name": "TSNE with dash.ipynb",
      "provenance": [],
      "collapsed_sections": [],
      "include_colab_link": true
    },
    "kernelspec": {
      "name": "python3",
      "display_name": "Python 3"
    },
    "language_info": {
      "name": "python"
    },
    "widgets": {
      "application/vnd.jupyter.widget-state+json": {
        "b4c8400edbfe4836aa04fecaa6104163": {
          "model_module": "@jupyter-widgets/controls",
          "model_name": "DropdownModel",
          "model_module_version": "1.5.0",
          "state": {
            "_options_labels": [
              "xmeans_temp777.csv",
              "xmeans_ppp (1).csv",
              "visual_names_familiar_matrix.csv",
              "visual_pics_matrix_international (2).csv",
              "test_gali_Matt and Dominic.csv",
              "test_gali_omer and eyal.csv",
              "test_gali_tamar and marina.csv",
              "test_gali_tazmin and tess.csv",
              "semantic_pics_matrix_orig_names.csv",
              "5cd59eea8618af0001bdab4b_omer and eyal.csv",
              "5cd59eea8618af0001bdab4b_Matt and Dominic.csv",
              "5cd59eea8618af0001bdab4b_tazmin and tess.csv",
              "5cd59eea8618af0001bdab4b_tamar and marina.csv",
              "Itai's.exp.pairs.f.csv"
            ],
            "_view_name": "DropdownView",
            "style": "IPY_MODEL_b201709c98114a5292df4ba5dbd78c66",
            "_dom_classes": [],
            "description": "",
            "_model_name": "DropdownModel",
            "index": 13,
            "_view_module": "@jupyter-widgets/controls",
            "_model_module_version": "1.5.0",
            "_view_count": null,
            "disabled": false,
            "_view_module_version": "1.5.0",
            "description_tooltip": null,
            "_model_module": "@jupyter-widgets/controls",
            "layout": "IPY_MODEL_92aa2a846be84004a298a7e835835470"
          }
        },
        "b201709c98114a5292df4ba5dbd78c66": {
          "model_module": "@jupyter-widgets/controls",
          "model_name": "DescriptionStyleModel",
          "model_module_version": "1.5.0",
          "state": {
            "_view_name": "StyleView",
            "_model_name": "DescriptionStyleModel",
            "description_width": "",
            "_view_module": "@jupyter-widgets/base",
            "_model_module_version": "1.5.0",
            "_view_count": null,
            "_view_module_version": "1.2.0",
            "_model_module": "@jupyter-widgets/controls"
          }
        },
        "92aa2a846be84004a298a7e835835470": {
          "model_module": "@jupyter-widgets/base",
          "model_name": "LayoutModel",
          "model_module_version": "1.2.0",
          "state": {
            "_view_name": "LayoutView",
            "grid_template_rows": null,
            "right": null,
            "justify_content": null,
            "_view_module": "@jupyter-widgets/base",
            "overflow": null,
            "_model_module_version": "1.2.0",
            "_view_count": null,
            "flex_flow": null,
            "width": null,
            "min_width": null,
            "border": null,
            "align_items": null,
            "bottom": null,
            "_model_module": "@jupyter-widgets/base",
            "top": null,
            "grid_column": null,
            "overflow_y": null,
            "overflow_x": null,
            "grid_auto_flow": null,
            "grid_area": null,
            "grid_template_columns": null,
            "flex": null,
            "_model_name": "LayoutModel",
            "justify_items": null,
            "grid_row": null,
            "max_height": null,
            "align_content": null,
            "visibility": null,
            "align_self": null,
            "height": null,
            "min_height": null,
            "padding": null,
            "grid_auto_rows": null,
            "grid_gap": null,
            "max_width": null,
            "order": null,
            "_view_module_version": "1.2.0",
            "grid_template_areas": null,
            "object_position": null,
            "object_fit": null,
            "grid_auto_columns": null,
            "margin": null,
            "display": null,
            "left": null
          }
        }
      }
    }
  },
  "cells": [
    {
      "cell_type": "markdown",
      "metadata": {
        "id": "view-in-github",
        "colab_type": "text"
      },
      "source": [
        "<a href=\"https://colab.research.google.com/github/gylab-TAU/collab-notebooks/blob/master/TSNE_with_dash.ipynb\" target=\"_parent\"><img src=\"https://colab.research.google.com/assets/colab-badge.svg\" alt=\"Open In Colab\"/></a>"
      ]
    },
    {
      "cell_type": "code",
      "metadata": {
        "id": "Ef2okrAxW5r3",
        "colab": {
          "base_uri": "https://localhost:8080/"
        },
        "outputId": "da6047e4-ffbf-46be-8118-cb48e85c34ef",
        "cellView": "form"
      },
      "source": [
        "#@title installations\n",
        "!pip install jupyter-dash --quiet\n",
        "!pip install pandas --quiet"
      ],
      "execution_count": null,
      "outputs": [
        {
          "output_type": "stream",
          "name": "stdout",
          "text": [
            "\u001b[K     |████████████████████████████████| 7.3 MB 6.7 MB/s \n",
            "\u001b[K     |████████████████████████████████| 26.5 MB 3.6 MB/s \n",
            "\u001b[K     |████████████████████████████████| 357 kB 43.8 MB/s \n",
            "\u001b[?25h  Building wheel for dash-core-components (setup.py) ... \u001b[?25l\u001b[?25hdone\n",
            "  Building wheel for dash-html-components (setup.py) ... \u001b[?25l\u001b[?25hdone\n",
            "  Building wheel for dash-table (setup.py) ... \u001b[?25l\u001b[?25hdone\n"
          ]
        }
      ]
    },
    {
      "cell_type": "code",
      "metadata": {
        "colab": {
          "base_uri": "https://localhost:8080/"
        },
        "id": "2TPRniL7W_vq",
        "outputId": "5837be58-ca17-4653-e027-2edd0cf7c485",
        "cellView": "form"
      },
      "source": [
        "#@title mount drive and read folders\n",
        "from google.colab import drive\n",
        "drive.mount('/content/drive')\n",
        "\n",
        "root_dir = \"/content/drive/My Drive/\"\n",
        "images_dir = root_dir + 'MDS-images/'\n",
        "results_dir = root_dir + 'MDS-results'"
      ],
      "execution_count": 1,
      "outputs": [
        {
          "output_type": "stream",
          "name": "stdout",
          "text": [
            "Mounted at /content/drive\n"
          ]
        }
      ]
    },
    {
      "cell_type": "code",
      "metadata": {
        "colab": {
          "base_uri": "https://localhost:8080/",
          "height": 49,
          "referenced_widgets": [
            "b4c8400edbfe4836aa04fecaa6104163",
            "b201709c98114a5292df4ba5dbd78c66",
            "92aa2a846be84004a298a7e835835470"
          ]
        },
        "id": "J6bjJoIIXF1S",
        "outputId": "b81409f1-eeec-42d1-c805-a3a325e36f09",
        "cellView": "form"
      },
      "source": [
        "#@title choose csv file\n",
        "import ipywidgets as widgets\n",
        "import os\n",
        "\n",
        "os.chdir(results_dir)\n",
        "options = os.listdir()\n",
        "\n",
        "picker = widgets.Dropdown(options=options, value=options[0])\n",
        "\n",
        "picker\n"
      ],
      "execution_count": 2,
      "outputs": [
        {
          "output_type": "display_data",
          "data": {
            "application/vnd.jupyter.widget-view+json": {
              "model_id": "b4c8400edbfe4836aa04fecaa6104163",
              "version_minor": 0,
              "version_major": 2
            },
            "text/plain": [
              "Dropdown(options=('xmeans_temp777.csv', 'xmeans_ppp (1).csv', 'visual_names_familiar_matrix.csv', 'visual_pics…"
            ]
          },
          "metadata": {}
        }
      ]
    },
    {
      "cell_type": "code",
      "metadata": {
        "id": "8eYZDGcxXGi6"
      },
      "source": [
        "#@title Clean data\n",
        "import pandas as pd\n",
        "import numpy as np\n",
        "df = pd.read_csv(results_dir + \"/\" +picker.value, encoding= 'unicode_escape')\n",
        "df = df.replace(\" \", 0)\n",
        "\n",
        "def check_symmetric(a, tol=1e-8):\n",
        "    return np.all(np.abs(a-a.T) < tol)\n",
        "\n",
        "labels = df.columns[1:]\n",
        "\n",
        "labels_key = df.columns[0]\n",
        "matrix = df.drop(labels_key, axis=1).fillna(0).to_numpy()\n",
        "matrix = matrix.astype(float)\n",
        "\n",
        "def try_make_matrix_symmetric(mat):\n",
        "  return mat + mat.T\n",
        "\n",
        "if (not check_symmetric(matrix)):\n",
        "  matrix = try_make_matrix_symmetric(matrix)\n",
        "\n",
        "if (not check_symmetric(matrix)):\n",
        "    print(\"Your matrix isn't symmetric\")\n",
        "\n",
        "matrix = pd.DataFrame(matrix)\n",
        "\n",
        "\n",
        "matrix.columns = labels\n",
        "matrix.index = labels"
      ],
      "execution_count": 30,
      "outputs": []
    },
    {
      "cell_type": "code",
      "metadata": {
        "colab": {
          "base_uri": "https://localhost:8080/"
        },
        "id": "jfZ33fpAXkra",
        "outputId": "dc9d955d-acec-482f-c9eb-f6fd78367ab6",
        "cellView": "form"
      },
      "source": [
        "#@title run TSNE\n",
        "from sklearn.manifold import TSNE\n",
        "\n",
        "RS = 1\n",
        "tsne_object = TSNE(method=\"exact\", metric=\"precomputed\", random_state=RS, perplexity=5)\n",
        "fashion_tsne = tsne_object.fit_transform(matrix)\n",
        "\n",
        "fashion_tsne\n",
        "\n",
        "x = [item[0] for item in fashion_tsne]\n",
        "y = [item[1] for item in fashion_tsne]\n",
        "ids = [label.split(\"_\")[0] for label in labels]\n",
        "df = pd.DataFrame({\"id\": ids, \"image_name\": labels, \"x\": x, \"y\": y})\n"
      ],
      "execution_count": null,
      "outputs": [
        {
          "output_type": "stream",
          "name": "stderr",
          "text": [
            "/usr/local/lib/python3.7/dist-packages/sklearn/manifold/_t_sne.py:783: FutureWarning: The default initialization in TSNE will change from 'random' to 'pca' in 1.2.\n",
            "  FutureWarning,\n",
            "/usr/local/lib/python3.7/dist-packages/sklearn/manifold/_t_sne.py:793: FutureWarning: The default learning rate in TSNE will change from 200.0 to 'auto' in 1.2.\n",
            "  FutureWarning,\n",
            "/usr/local/lib/python3.7/dist-packages/sklearn/manifold/_t_sne.py:827: FutureWarning: 'square_distances' has been introduced in 0.24 to help phase out legacy squaring behavior. The 'legacy' setting will be removed in 1.1 (renaming of 0.26), and the default setting will be changed to True. In 1.3, 'square_distances' will be removed altogether, and distances will be squared by default. Set 'square_distances'=True to silence this warning.\n",
            "  FutureWarning,\n"
          ]
        }
      ]
    },
    {
      "cell_type": "code",
      "source": [
        "#@title arrange data for shepard's diagram\n",
        "\n",
        "import math\n",
        "\n",
        "title_row = np.ndarray.copy(df['image_name'].to_numpy())\n",
        "#title_row = np.insert(title_row, 0, None)\n",
        "\n",
        "adj_matrix = []\n",
        "\n",
        "for row_index1 in range(len(df)):\n",
        "  adj_row = []\n",
        "  for row_index2 in range(len(df)):\n",
        "    x1 = df.loc[row_index1][\"x\"]\n",
        "    x2 = df.loc[row_index2][\"x\"]\n",
        "    y1 = df.loc[row_index1][\"y\"]\n",
        "    y2 = df.loc[row_index2][\"y\"]\n",
        "    \n",
        "    adj_row.append(((math.sqrt(math.pow((x1-x2), 2) + math.pow((y1-y2), 2)))))\n",
        "  adj_matrix.append(adj_row)\n",
        "new_matrix = pd.DataFrame(adj_matrix, index=title_row, columns=title_row)\n",
        "\n",
        "\n",
        "old_matrix = matrix.copy()\n",
        "old_matrix.index = labels\n",
        "old_matrix.columns = labels\n",
        "old_matrix\n",
        "\n",
        "shepards_x = []\n",
        "shepards_y = []\n",
        "shepards_label = []\n",
        "for i in range(len(labels)):\n",
        "  for j in range(i):\n",
        "    shepards_label.append(labels[i] + \", \" + labels[j])\n",
        "    shepards_x.append(old_matrix[labels[i]][labels[j]])\n",
        "    shepards_y.append(new_matrix[labels[i]][labels[j]])\n",
        "\n",
        "shepards_df = pd.DataFrame(list(zip(shepards_label, shepards_x, shepards_y)), columns=[\"labels\", \"x\", \"y\"])"
      ],
      "metadata": {
        "id": "8T2kfyHjW5N1",
        "cellView": "form"
      },
      "execution_count": null,
      "outputs": []
    },
    {
      "cell_type": "code",
      "metadata": {
        "id": "nltxjk1mdqlK",
        "cellView": "form"
      },
      "source": [
        "#@title get images\n",
        "import os\n",
        "import base64\n",
        "\n",
        "def get_images():\n",
        "  images64 = {}\n",
        "  os.chdir(images_dir)\n",
        "  image_names = os.listdir()\n",
        "\n",
        "  for image_name in image_names:\n",
        "    suffix = image_name.split(\".\")[-1]\n",
        "    image_file = open(images_dir+ image_name, 'rb')\n",
        "    image_read = image_file.read()\n",
        "    \n",
        "    images64[image_name] = \"data:image/\" + suffix +\";base64, \" + base64.b64encode(image_read).decode()\n",
        "\n",
        "  return images64\n",
        "\n",
        "images = get_images()\n",
        "\n",
        "df[\"image\"] = [images[name] for name in df[\"image_name\"]]\n",
        "\n",
        "def get_image(image_name):\n",
        "  return images[image_name]\n",
        "\n"
      ],
      "execution_count": null,
      "outputs": []
    },
    {
      "cell_type": "code",
      "metadata": {
        "id": "ZQ3QOOTYeA7h",
        "cellView": "form"
      },
      "source": [
        "#@title add colour categoty\n",
        "def add_category_to_df():\n",
        "  image_names = df.id.astype('category').to_numpy()\n",
        "  \n",
        "  category_dict = {image_names[i]: i for i in range(len(image_names))}\n",
        "\n",
        "  df[\"category\"] = [category_dict[df.loc[i].id] for i in range(len(df[\"id\"]))] \n",
        "\n",
        "add_category_to_df()\n"
      ],
      "execution_count": null,
      "outputs": []
    },
    {
      "cell_type": "code",
      "source": [
        "#@title Image TSNE\n",
        "from PIL import Image\n",
        "from io import BytesIO\n",
        "import base64\n",
        "import plotly.express as px\n",
        "from jupyter_dash import JupyterDash\n",
        "from dash import dcc, html, Input, Output, no_update\n",
        "from dash import html\n",
        "from dash.dependencies import Input, Output\n",
        "import plotly.graph_objects as go\n",
        "\n",
        "\n",
        "figure = go.Figure()\n",
        "\n",
        "figure = go.Figure(data=go.Scatter(x = df[\"x\"], y = df[\"y\"], \n",
        "                                   mode='markers', text = df[\"image_name\"]))\n",
        "\n",
        "for i, row in df.iterrows():\n",
        "  im = Image.open(BytesIO(base64.b64decode(row[\"image\"].split(\" \")[1])))\n",
        "  figure.add_layout_image(\n",
        "      dict(\n",
        "           source=im,\n",
        "            xref=\"x\",\n",
        "            yref=\"y\",\n",
        "            xanchor=\"left\",\n",
        "            yanchor=\"top\",\n",
        "            x=row[\"x\"],\n",
        "            y=row[\"y\"],\n",
        "            sizex= 100,\n",
        "            sizey=100,\n",
        "            sizing=\"contain\",\n",
        "            opacity=1,\n",
        "            layer=\"above\"\n",
        "      )\n",
        "  )\n",
        "\n",
        "figure.update_layout(height=700)\n",
        "\n",
        "app2 = JupyterDash(__name__)\n",
        "\n",
        "app2.layout = html.Div(\n",
        "    className=\"container\",\n",
        "    children=[\n",
        "        dcc.Graph(id=\"graph-5\", figure=figure, clear_on_unhover=True)\n",
        "    ],\n",
        ")\n",
        "app2.run_server(mode='inline', debug=True)"
      ],
      "metadata": {
        "colab": {
          "base_uri": "https://localhost:8080/",
          "height": 671
        },
        "id": "N4-WoSutL2ah",
        "outputId": "f887cfbc-6e4b-4c04-9f2b-4409204840ae",
        "cellView": "form"
      },
      "execution_count": null,
      "outputs": [
        {
          "output_type": "display_data",
          "data": {
            "application/javascript": [
              "(async (port, path, width, height, cache, element) => {\n",
              "    if (!google.colab.kernel.accessAllowed && !cache) {\n",
              "      return;\n",
              "    }\n",
              "    element.appendChild(document.createTextNode(''));\n",
              "    const url = await google.colab.kernel.proxyPort(port, {cache});\n",
              "    const iframe = document.createElement('iframe');\n",
              "    iframe.src = new URL(path, url).toString();\n",
              "    iframe.height = height;\n",
              "    iframe.width = width;\n",
              "    iframe.style.border = 0;\n",
              "    element.appendChild(iframe);\n",
              "  })(8050, \"/\", \"100%\", 650, false, window.element)"
            ],
            "text/plain": [
              "<IPython.core.display.Javascript object>"
            ]
          },
          "metadata": {}
        }
      ]
    },
    {
      "cell_type": "code",
      "source": [
        "#@title draw shepard's diagram\n",
        "import plotly.express as px\n",
        "from jupyter_dash import JupyterDash\n",
        "from dash import dcc, html, Input, Output, no_update\n",
        "from dash import html\n",
        "from dash.dependencies import Input, Output\n",
        "import plotly.graph_objects as go\n",
        "from scipy import stats\n",
        "\n",
        "figure = go.Figure(data=go.Scatter(x = shepards_df[\"x\"], y = shepards_df[\"y\"], \n",
        "                                   mode='markers', text = shepards_df[\"labels\"]))\n",
        "figure.update_layout(xaxis_title = \"before TSNE\", yaxis_title = \"after TSNE\")\n",
        "\n",
        "pearson = stats.pearsonr(shepards_df[\"x\"].to_numpy(), shepards_df[\"y\"].to_numpy())\n",
        "\n",
        "correlation = \"Pearson's R: \" + str(pearson[0])\n",
        "p_value = \"P-value: \" + str(pearson[1])\n",
        "\n",
        "app1 = JupyterDash(__name__)\n",
        "\n",
        "app1.layout = html.Div(\n",
        "    className=\"container\",\n",
        "    children=[\n",
        "        html.H1(\"Shepard's Diagram\"),\n",
        "        html.H3(correlation + \" \" + p_value),\n",
        "        dcc.Graph(id=\"graph-5\", figure=figure, clear_on_unhover=True)\n",
        "    ],\n",
        ")\n",
        "app1.run_server(mode='inline', debug=True)"
      ],
      "metadata": {
        "colab": {
          "base_uri": "https://localhost:8080/",
          "height": 671
        },
        "id": "6QoM6BMIXKSc",
        "outputId": "273043f6-ca64-4daa-8f7c-fbf207b4c372",
        "cellView": "form"
      },
      "execution_count": null,
      "outputs": [
        {
          "output_type": "display_data",
          "data": {
            "application/javascript": [
              "(async (port, path, width, height, cache, element) => {\n",
              "    if (!google.colab.kernel.accessAllowed && !cache) {\n",
              "      return;\n",
              "    }\n",
              "    element.appendChild(document.createTextNode(''));\n",
              "    const url = await google.colab.kernel.proxyPort(port, {cache});\n",
              "    const iframe = document.createElement('iframe');\n",
              "    iframe.src = new URL(path, url).toString();\n",
              "    iframe.height = height;\n",
              "    iframe.width = width;\n",
              "    iframe.style.border = 0;\n",
              "    element.appendChild(iframe);\n",
              "  })(8050, \"/\", \"100%\", 650, false, window.element)"
            ],
            "text/plain": [
              "<IPython.core.display.Javascript object>"
            ]
          },
          "metadata": {}
        }
      ]
    },
    {
      "cell_type": "code",
      "metadata": {
        "colab": {
          "base_uri": "https://localhost:8080/",
          "height": 671
        },
        "id": "7LGHDD-7eDmh",
        "outputId": "54acb1a3-8da5-45cb-affb-81bd909ab4d0",
        "cellView": "form"
      },
      "source": [
        "#@title draw plot\n",
        "import plotly.express as px\n",
        "from jupyter_dash import JupyterDash\n",
        "from dash import dcc, html, Input, Output, no_update\n",
        "from dash import html\n",
        "from dash.dependencies import Input, Output\n",
        "import plotly.graph_objects as go\n",
        "\n",
        "\n",
        "figure = go.Figure()\n",
        "unique_ids = list(set(ids))\n",
        "\n",
        "for i in range(len(unique_ids)):\n",
        "  x = df[df[\"id\"] == unique_ids[i]].x.to_numpy()\n",
        "  y = df[df[\"id\"] == unique_ids[i]].y.to_numpy()\n",
        "  name = unique_ids[i]\n",
        "  legendrank = i\n",
        "\n",
        "  figure.add_trace(go.Scatter(name=name, x=x, y=y, legendrank=legendrank, mode=\"markers\"))\n",
        "\n",
        "figure.update_layout(legend= {'itemsizing': 'constant'}, height=700)\n",
        "\n",
        "figure.update_traces(hoverinfo=\"none\", hovertemplate=None)\n",
        "app = JupyterDash(__name__)\n",
        "\n",
        "app.layout = html.Div(\n",
        "    className=\"container\",\n",
        "    children=[\n",
        "        html.H1(\"TSNE\"),\n",
        "        dcc.Graph(id=\"graph-5\", figure=figure, clear_on_unhover=True),\n",
        "        dcc.Tooltip(id=\"graph-tooltip-5\", direction='bottom'),\n",
        "    ],\n",
        ")\n",
        "\n",
        "@app.callback(\n",
        "    Output(\"graph-tooltip-5\", \"show\"),\n",
        "    Output(\"graph-tooltip-5\", \"bbox\"),\n",
        "    Output(\"graph-tooltip-5\", \"children\"),\n",
        "    Input(\"graph-5\", \"hoverData\"),\n",
        ")\n",
        "def display_hover(hoverData):\n",
        "    if hoverData is None:\n",
        "        return False, no_update, no_update\n",
        "\n",
        "    # demo only shows the first point, but other points may also be available\n",
        "    hover_data = hoverData[\"points\"][0]\n",
        "    bbox = hover_data[\"bbox\"]\n",
        "    num = hover_data[\"pointNumber\"]\n",
        "    id  = unique_ids[int(hover_data[\"curveNumber\"])]\n",
        "\n",
        "    id_df = df[df[\"id\"] == id]\n",
        "\n",
        "    image_name = id_df[\"image_name\"].to_numpy()[num]\n",
        "    image_url = id_df[\"image\"].to_numpy()[num]\n",
        "    \n",
        "    children = [\n",
        "        html.Div([\n",
        "            html.P(image_name),\n",
        "            html.Img(\n",
        "                src=image_url,\n",
        "                style={\"width\": \"50px\", 'display': 'block', 'margin': '0 auto'},\n",
        "            )\n",
        "        ])\n",
        "    ]\n",
        "\n",
        "    return True, bbox, children\n",
        "\n",
        "# Run app and display result inline in the notebook\n",
        "app.run_server(mode='inline', debug=True)"
      ],
      "execution_count": null,
      "outputs": [
        {
          "output_type": "display_data",
          "data": {
            "application/javascript": [
              "(async (port, path, width, height, cache, element) => {\n",
              "    if (!google.colab.kernel.accessAllowed && !cache) {\n",
              "      return;\n",
              "    }\n",
              "    element.appendChild(document.createTextNode(''));\n",
              "    const url = await google.colab.kernel.proxyPort(port, {cache});\n",
              "    const iframe = document.createElement('iframe');\n",
              "    iframe.src = new URL(path, url).toString();\n",
              "    iframe.height = height;\n",
              "    iframe.width = width;\n",
              "    iframe.style.border = 0;\n",
              "    element.appendChild(iframe);\n",
              "  })(8050, \"/\", \"100%\", 650, false, window.element)"
            ],
            "text/plain": [
              "<IPython.core.display.Javascript object>"
            ]
          },
          "metadata": {}
        }
      ]
    }
  ]
}