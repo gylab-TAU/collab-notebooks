{
  "nbformat": 4,
  "nbformat_minor": 0,
  "metadata": {
    "colab": {
      "name": "MDS Tool.ipynb",
      "provenance": [],
      "collapsed_sections": [],
      "authorship_tag": "ABX9TyMR6py05vpU2RlTT1PUWOuZ",
      "include_colab_link": true
    },
    "kernelspec": {
      "name": "python3",
      "display_name": "Python 3"
    },
    "language_info": {
      "name": "python"
    },
    "widgets": {
      "application/vnd.jupyter.widget-state+json": {
        "aa11081188134c139fed640ba7142e51": {
          "model_module": "@jupyter-widgets/controls",
          "model_name": "DropdownModel",
          "model_module_version": "1.5.0",
          "state": {
            "_options_labels": [
              "xmeans_temp777.csv",
              "xmeans_ppp (1).csv",
              "visual_names_familiar_matrix.csv",
              "visual_pics_matrix_international (2).csv",
              "test_gali_Matt and Dominic.csv",
              "test_gali_omer and eyal.csv",
              "test_gali_tamar and marina.csv",
              "test_gali_tazmin and tess.csv"
            ],
            "_view_name": "DropdownView",
            "style": "IPY_MODEL_541526f6edee4f6fa238b43e7a66e264",
            "_dom_classes": [],
            "description": "",
            "_model_name": "DropdownModel",
            "index": 5,
            "_view_module": "@jupyter-widgets/controls",
            "_model_module_version": "1.5.0",
            "_view_count": null,
            "disabled": false,
            "_view_module_version": "1.5.0",
            "description_tooltip": null,
            "_model_module": "@jupyter-widgets/controls",
            "layout": "IPY_MODEL_8bfcd60f2d06405db5d83ebe90e2d30d"
          }
        },
        "541526f6edee4f6fa238b43e7a66e264": {
          "model_module": "@jupyter-widgets/controls",
          "model_name": "DescriptionStyleModel",
          "model_module_version": "1.5.0",
          "state": {
            "_view_name": "StyleView",
            "_model_name": "DescriptionStyleModel",
            "description_width": "",
            "_view_module": "@jupyter-widgets/base",
            "_model_module_version": "1.5.0",
            "_view_count": null,
            "_view_module_version": "1.2.0",
            "_model_module": "@jupyter-widgets/controls"
          }
        },
        "8bfcd60f2d06405db5d83ebe90e2d30d": {
          "model_module": "@jupyter-widgets/base",
          "model_name": "LayoutModel",
          "model_module_version": "1.2.0",
          "state": {
            "_view_name": "LayoutView",
            "grid_template_rows": null,
            "right": null,
            "justify_content": null,
            "_view_module": "@jupyter-widgets/base",
            "overflow": null,
            "_model_module_version": "1.2.0",
            "_view_count": null,
            "flex_flow": null,
            "width": null,
            "min_width": null,
            "border": null,
            "align_items": null,
            "bottom": null,
            "_model_module": "@jupyter-widgets/base",
            "top": null,
            "grid_column": null,
            "overflow_y": null,
            "overflow_x": null,
            "grid_auto_flow": null,
            "grid_area": null,
            "grid_template_columns": null,
            "flex": null,
            "_model_name": "LayoutModel",
            "justify_items": null,
            "grid_row": null,
            "max_height": null,
            "align_content": null,
            "visibility": null,
            "align_self": null,
            "height": null,
            "min_height": null,
            "padding": null,
            "grid_auto_rows": null,
            "grid_gap": null,
            "max_width": null,
            "order": null,
            "_view_module_version": "1.2.0",
            "grid_template_areas": null,
            "object_position": null,
            "object_fit": null,
            "grid_auto_columns": null,
            "margin": null,
            "display": null,
            "left": null
          }
        }
      }
    }
  },
  "cells": [
    {
      "cell_type": "markdown",
      "metadata": {
        "id": "view-in-github",
        "colab_type": "text"
      },
      "source": [
        "<a href=\"https://colab.research.google.com/github/gylab-TAU/collab-notebooks/blob/master/MDS_Tool.ipynb\" target=\"_parent\"><img src=\"https://colab.research.google.com/assets/colab-badge.svg\" alt=\"Open In Colab\"/></a>"
      ]
    },
    {
      "cell_type": "code",
      "metadata": {
        "id": "FylHulSR3xlo"
      },
      "source": [
        "#@title installations\n",
        "!pip install jupyter-dash --quiet\n",
        "!pip install pandas --quiet\n",
        "!pip install scipy --quiet"
      ],
      "execution_count": null,
      "outputs": []
    },
    {
      "cell_type": "code",
      "metadata": {
        "id": "1KiO51Tkr8jB",
        "colab": {
          "base_uri": "https://localhost:8080/"
        },
        "outputId": "e67ef8de-3d32-4b86-b261-88fafa9e31f3"
      },
      "source": [
        "#@title mount drive and read folders\n",
        "from google.colab import drive\n",
        "drive.mount('/content/drive')\n",
        "\n",
        "root_dir = \"/content/drive/My Drive/\"\n",
        "images_dir = root_dir + 'MDS-images/'\n",
        "results_dir = root_dir + 'MDS-results'"
      ],
      "execution_count": null,
      "outputs": [
        {
          "output_type": "stream",
          "name": "stdout",
          "text": [
            "Drive already mounted at /content/drive; to attempt to forcibly remount, call drive.mount(\"/content/drive\", force_remount=True).\n"
          ]
        }
      ]
    },
    {
      "cell_type": "code",
      "metadata": {
        "id": "XVXeyBufsT6x",
        "colab": {
          "base_uri": "https://localhost:8080/",
          "height": 49,
          "referenced_widgets": [
            "aa11081188134c139fed640ba7142e51",
            "541526f6edee4f6fa238b43e7a66e264",
            "8bfcd60f2d06405db5d83ebe90e2d30d"
          ]
        },
        "outputId": "97d75bc2-5ea3-41fc-bab6-d6f26eaed2d0"
      },
      "source": [
        "#@title choose csv file\n",
        "import ipywidgets as widgets\n",
        "import os\n",
        "\n",
        "os.chdir(results_dir)\n",
        "options = os.listdir()\n",
        "\n",
        "picker = widgets.Dropdown(options=options, value=options[0])\n",
        "\n",
        "picker\n"
      ],
      "execution_count": null,
      "outputs": [
        {
          "output_type": "display_data",
          "data": {
            "application/vnd.jupyter.widget-view+json": {
              "model_id": "aa11081188134c139fed640ba7142e51",
              "version_minor": 0,
              "version_major": 2
            },
            "text/plain": [
              "Dropdown(options=('xmeans_temp777.csv', 'xmeans_ppp (1).csv', 'visual_names_familiar_matrix.csv', 'visual_pics…"
            ]
          },
          "metadata": {}
        }
      ]
    },
    {
      "cell_type": "code",
      "metadata": {
        "id": "8kyMxRnqscuJ"
      },
      "source": [
        "#@title Clean data\n",
        "import pandas as pd\n",
        "import numpy as np\n",
        "df = pd.read_csv(results_dir + \"/\" +picker.value)\n",
        "\n",
        "def check_symmetric(a, tol=1e-8):\n",
        "    return np.all(np.abs(a-a.T) < tol)\n",
        "\n",
        "labels = df.columns[1:]\n",
        "\n",
        "labels_key = df.columns[0]\n",
        "matrix = df.drop(labels_key, axis=1).fillna(0).to_numpy()\n",
        "\n",
        "def try_make_matrix_symmetric(mat):\n",
        "  return mat + mat.T\n",
        "\n",
        "if (not check_symmetric(matrix)):\n",
        "  matrix = try_make_matrix_symmetric(matrix)\n",
        "\n",
        "if (not check_symmetric(matrix)):\n",
        "    print(\"Your matrix isn't symmetric\")\n",
        "\n",
        "matrix = pd.DataFrame(matrix)\n",
        "\n"
      ],
      "execution_count": null,
      "outputs": []
    },
    {
      "cell_type": "code",
      "metadata": {
        "id": "PpmVvU0Swm6p"
      },
      "source": [
        "#@title run MDS\n",
        "from sklearn.manifold import MDS\n",
        "\n",
        "mds = MDS(dissimilarity='precomputed')\n",
        "df = pd.DataFrame(mds.fit_transform(matrix), columns=[\"x\", \"y\"])\n",
        "df[\"image_name\"] = labels\n",
        "\n",
        "ids = [label.split(\"_\")[0] for label in labels]\n",
        "df[\"id\"] = ids\n",
        "\n"
      ],
      "execution_count": null,
      "outputs": []
    },
    {
      "cell_type": "code",
      "source": [
        "#@title arrange data for shepard's diagram\n",
        "\n",
        "import math\n",
        "\n",
        "title_row = np.ndarray.copy(df['image_name'].to_numpy())\n",
        "#title_row = np.insert(title_row, 0, None)\n",
        "\n",
        "adj_matrix = []\n",
        "\n",
        "for row_index1 in range(len(df)):\n",
        "  adj_row = []\n",
        "  for row_index2 in range(len(df)):\n",
        "    x1 = df.loc[row_index1][\"x\"]\n",
        "    x2 = df.loc[row_index2][\"x\"]\n",
        "    y1 = df.loc[row_index1][\"y\"]\n",
        "    y2 = df.loc[row_index2][\"y\"]\n",
        "    \n",
        "    adj_row.append(((math.sqrt(math.pow((x1-x2), 2) + math.pow((y1-y2), 2)))))\n",
        "  adj_matrix.append(adj_row)\n",
        "new_matrix = pd.DataFrame(adj_matrix, index=title_row, columns=title_row)\n",
        "\n",
        "\n",
        "old_matrix = matrix.copy()\n",
        "old_matrix.index = labels\n",
        "old_matrix.columns = labels\n",
        "old_matrix\n",
        "\n",
        "shepards_x = []\n",
        "shepards_y = []\n",
        "shepards_label = []\n",
        "for i in range(len(labels)):\n",
        "  for j in range(i):\n",
        "    shepards_label.append(labels[i] + \", \" + labels[j])\n",
        "    shepards_x.append(old_matrix[labels[i]][labels[j]])\n",
        "    shepards_y.append(new_matrix[labels[i]][labels[j]])\n",
        "\n",
        "shepards_df = pd.DataFrame(list(zip(shepards_label, shepards_x, shepards_y)), columns=[\"labels\", \"x\", \"y\"])"
      ],
      "metadata": {
        "id": "MSbr9F2M1WGm"
      },
      "execution_count": null,
      "outputs": []
    },
    {
      "cell_type": "code",
      "metadata": {
        "id": "To50t98a1v-3"
      },
      "source": [
        "#@title get images\n",
        "import os\n",
        "import base64\n",
        "\n",
        "def get_images():\n",
        "  images64 = {}\n",
        "  os.chdir(images_dir)\n",
        "  image_names = os.listdir()\n",
        "\n",
        "  for image_name in image_names:\n",
        "    suffix = image_name.split(\".\")[-1]\n",
        "    image_file = open(images_dir+ image_name, 'rb')\n",
        "    image_read = image_file.read()\n",
        "    \n",
        "    images64[image_name] = \"data:image/\" + suffix +\";base64, \" + base64.b64encode(image_read).decode()\n",
        "\n",
        "  return images64\n",
        "\n",
        "images = get_images()\n",
        "\n",
        "def get_image(image_name):\n",
        "  return images[image_name]\n",
        "\n"
      ],
      "execution_count": null,
      "outputs": []
    },
    {
      "cell_type": "code",
      "metadata": {
        "id": "8HE-2FLNglM3"
      },
      "source": [
        "#@title add colour categoty\n",
        "def add_category_to_df():\n",
        "  image_names = df.id.astype('category').to_numpy()\n",
        "  \n",
        "  category_dict = {image_names[i]: i for i in range(len(image_names))}\n",
        "\n",
        "  df[\"category\"] = [category_dict[df.loc[i].id] for i in range(len(df[\"id\"]))] \n",
        "\n",
        "add_category_to_df()\n"
      ],
      "execution_count": null,
      "outputs": []
    },
    {
      "cell_type": "code",
      "metadata": {
        "colab": {
          "base_uri": "https://localhost:8080/",
          "height": 671
        },
        "id": "-jFIrJIG3vK9",
        "outputId": "376b1b2b-0994-4962-a491-85a01d179268"
      },
      "source": [
        "#@title draw plot\n",
        "import plotly.express as px\n",
        "from jupyter_dash import JupyterDash\n",
        "from dash import dcc, html, Input, Output, no_update\n",
        "from dash import html\n",
        "from dash.dependencies import Input, Output\n",
        "import plotly.graph_objects as go\n",
        "\n",
        "\n",
        "figure = go.Figure()\n",
        "unique_ids = list(set(ids))\n",
        "\n",
        "for i in range(len(unique_ids)):\n",
        "  x = df[df[\"id\"] == unique_ids[i]].x.to_numpy()\n",
        "  y = df[df[\"id\"] == unique_ids[i]].y.to_numpy()\n",
        "  name = unique_ids[i]\n",
        "  legendrank = i\n",
        "\n",
        "  figure.add_trace(go.Scatter(name=name, x=x, y=y, legendrank=legendrank, mode=\"markers\" ))\n",
        "\n",
        "figure.update_layout(legend= {'itemsizing': 'constant'})\n",
        "\n",
        "figure.update_traces(hoverinfo=\"none\", hovertemplate=None)\n",
        "app = JupyterDash(__name__)\n",
        "\n",
        "app.layout = html.Div(\n",
        "    className=\"container\",\n",
        "    children=[\n",
        "        html.H1(\"MDS\"),\n",
        "        dcc.Graph(id=\"graph-5\", figure=figure, clear_on_unhover=True),\n",
        "        dcc.Tooltip(id=\"graph-tooltip-5\", direction='bottom'),\n",
        "    ],\n",
        ")\n",
        "\n",
        "@app.callback(\n",
        "    Output(\"graph-tooltip-5\", \"show\"),\n",
        "    Output(\"graph-tooltip-5\", \"bbox\"),\n",
        "    Output(\"graph-tooltip-5\", \"children\"),\n",
        "    Input(\"graph-5\", \"hoverData\"),\n",
        ")\n",
        "def display_hover(hoverData):\n",
        "    if hoverData is None:\n",
        "        return False, no_update, no_update\n",
        "\n",
        "    # demo only shows the first point, but other points may also be available\n",
        "    hover_data = hoverData[\"points\"][0]\n",
        "    bbox = hover_data[\"bbox\"]\n",
        "    num = hover_data[\"pointNumber\"]\n",
        "\n",
        "    image_name = df[\"image_name\"].to_numpy()[num]\n",
        "    image_url = images[image_name]\n",
        "    \n",
        "    children = [\n",
        "        html.Div([\n",
        "            html.P(image_name),\n",
        "            html.Img(\n",
        "                src=image_url,\n",
        "                style={\"width\": \"50px\", 'display': 'block', 'margin': '0 auto'},\n",
        "            )\n",
        "        ])\n",
        "    ]\n",
        "\n",
        "    return True, bbox, children\n",
        "\n",
        "# Run app and display result inline in the notebook\n",
        "app.run_server(mode='inline', debug=True)"
      ],
      "execution_count": null,
      "outputs": [
        {
          "output_type": "display_data",
          "data": {
            "application/javascript": [
              "(async (port, path, width, height, cache, element) => {\n",
              "    if (!google.colab.kernel.accessAllowed && !cache) {\n",
              "      return;\n",
              "    }\n",
              "    element.appendChild(document.createTextNode(''));\n",
              "    const url = await google.colab.kernel.proxyPort(port, {cache});\n",
              "    const iframe = document.createElement('iframe');\n",
              "    iframe.src = new URL(path, url).toString();\n",
              "    iframe.height = height;\n",
              "    iframe.width = width;\n",
              "    iframe.style.border = 0;\n",
              "    element.appendChild(iframe);\n",
              "  })(8050, \"/\", \"100%\", 650, false, window.element)"
            ],
            "text/plain": [
              "<IPython.core.display.Javascript object>"
            ]
          },
          "metadata": {}
        }
      ]
    },
    {
      "cell_type": "code",
      "source": [
        "#@title draw shepard's diagram\n",
        "import plotly.express as px\n",
        "from jupyter_dash import JupyterDash\n",
        "from dash import dcc, html, Input, Output, no_update\n",
        "from dash import html\n",
        "from dash.dependencies import Input, Output\n",
        "import plotly.graph_objects as go\n",
        "from scipy import stats\n",
        "\n",
        "figure = go.Figure(data=go.Scatter(x = shepards_df[\"x\"], y = shepards_df[\"y\"], \n",
        "                                   mode='markers', text = shepards_df[\"labels\"]))\n",
        "figure.update_layout(xaxis_title = \"before MDS\", yaxis_title = \"after MDS\")\n",
        "\n",
        "pearson = stats.pearsonr(shepards_df[\"x\"].to_numpy(), shepards_df[\"y\"].to_numpy())\n",
        "\n",
        "correlation = \"Pearson's R: \" + str(pearson[0])\n",
        "p_value = \"P-value: \" + str(pearson[1])\n",
        "\n",
        "app1 = JupyterDash(__name__)\n",
        "\n",
        "app1.layout = html.Div(\n",
        "    className=\"container\",\n",
        "    children=[\n",
        "        html.H1(\"Shepard's Diagram\"),\n",
        "        html.H3(correlation + \" \" + p_value),\n",
        "        dcc.Graph(id=\"graph-5\", figure=figure, clear_on_unhover=True)\n",
        "    ],\n",
        ")\n",
        "app1.run_server(mode='inline', debug=True)"
      ],
      "metadata": {
        "colab": {
          "base_uri": "https://localhost:8080/",
          "height": 671
        },
        "id": "axvdDMGrMu7n",
        "outputId": "1b21857c-9eb8-46dc-ca25-d10f143ae28b"
      },
      "execution_count": null,
      "outputs": [
        {
          "output_type": "display_data",
          "data": {
            "application/javascript": [
              "(async (port, path, width, height, cache, element) => {\n",
              "    if (!google.colab.kernel.accessAllowed && !cache) {\n",
              "      return;\n",
              "    }\n",
              "    element.appendChild(document.createTextNode(''));\n",
              "    const url = await google.colab.kernel.proxyPort(port, {cache});\n",
              "    const iframe = document.createElement('iframe');\n",
              "    iframe.src = new URL(path, url).toString();\n",
              "    iframe.height = height;\n",
              "    iframe.width = width;\n",
              "    iframe.style.border = 0;\n",
              "    element.appendChild(iframe);\n",
              "  })(8050, \"/\", \"100%\", 650, false, window.element)"
            ],
            "text/plain": [
              "<IPython.core.display.Javascript object>"
            ]
          },
          "metadata": {}
        }
      ]
    }
  ]
}